{
 "cells": [
  {
   "cell_type": "markdown",
   "metadata": {},
   "source": [
    "## Cleaning the data we assessed in the previous lesson "
   ]
  },
  {
   "cell_type": "markdown",
   "metadata": {},
   "source": [
    "This Auralin Phase II clinical trial dataset comes in three tables: `patients`, `treatments`, and `adverse_reactions`. The Auralin Trial was a fake data set put together by Udacity to help understand the act of assessing the data. \n",
    "\n",
    "#### Gather"
   ]
  },
  {
   "cell_type": "code",
   "execution_count": 1,
   "metadata": {},
   "outputs": [],
   "source": [
    "import pandas as pd"
   ]
  },
  {
   "cell_type": "code",
   "execution_count": 2,
   "metadata": {},
   "outputs": [],
   "source": [
    "patients = pd.read_csv('patients.csv')\n",
    "treatments = pd.read_csv('treatments.csv')\n",
    "adverse_reactions = pd.read_csv('adverse_reactions.csv')"
   ]
  },
  {
   "cell_type": "markdown",
   "metadata": {},
   "source": [
    "#### Assess\n",
    "Display each data frames columns to understand the data in each of the data frames"
   ]
  },
  {
   "cell_type": "code",
   "execution_count": 4,
   "metadata": {},
   "outputs": [
    {
     "data": {
      "text/html": [
       "<div>\n",
       "<style scoped>\n",
       "    .dataframe tbody tr th:only-of-type {\n",
       "        vertical-align: middle;\n",
       "    }\n",
       "\n",
       "    .dataframe tbody tr th {\n",
       "        vertical-align: top;\n",
       "    }\n",
       "\n",
       "    .dataframe thead th {\n",
       "        text-align: right;\n",
       "    }\n",
       "</style>\n",
       "<table border=\"1\" class=\"dataframe\">\n",
       "  <thead>\n",
       "    <tr style=\"text-align: right;\">\n",
       "      <th></th>\n",
       "      <th>patient_id</th>\n",
       "      <th>assigned_sex</th>\n",
       "      <th>given_name</th>\n",
       "      <th>surname</th>\n",
       "      <th>address</th>\n",
       "      <th>city</th>\n",
       "      <th>state</th>\n",
       "      <th>zip_code</th>\n",
       "      <th>country</th>\n",
       "      <th>contact</th>\n",
       "      <th>birthdate</th>\n",
       "      <th>weight</th>\n",
       "      <th>height</th>\n",
       "      <th>bmi</th>\n",
       "    </tr>\n",
       "  </thead>\n",
       "  <tbody>\n",
       "    <tr>\n",
       "      <th>0</th>\n",
       "      <td>1</td>\n",
       "      <td>female</td>\n",
       "      <td>Zoe</td>\n",
       "      <td>Wellish</td>\n",
       "      <td>576 Brown Bear Drive</td>\n",
       "      <td>Rancho California</td>\n",
       "      <td>California</td>\n",
       "      <td>92390.0</td>\n",
       "      <td>United States</td>\n",
       "      <td>951-719-9170ZoeWellish@superrito.com</td>\n",
       "      <td>7/10/1976</td>\n",
       "      <td>121.7</td>\n",
       "      <td>66</td>\n",
       "      <td>19.6</td>\n",
       "    </tr>\n",
       "    <tr>\n",
       "      <th>1</th>\n",
       "      <td>2</td>\n",
       "      <td>female</td>\n",
       "      <td>Pamela</td>\n",
       "      <td>Hill</td>\n",
       "      <td>2370 University Hill Road</td>\n",
       "      <td>Armstrong</td>\n",
       "      <td>Illinois</td>\n",
       "      <td>61812.0</td>\n",
       "      <td>United States</td>\n",
       "      <td>PamelaSHill@cuvox.de+1 (217) 569-3204</td>\n",
       "      <td>4/3/1967</td>\n",
       "      <td>118.8</td>\n",
       "      <td>66</td>\n",
       "      <td>19.2</td>\n",
       "    </tr>\n",
       "  </tbody>\n",
       "</table>\n",
       "</div>"
      ],
      "text/plain": [
       "   patient_id assigned_sex given_name  surname                    address  \\\n",
       "0           1       female        Zoe  Wellish       576 Brown Bear Drive   \n",
       "1           2       female     Pamela     Hill  2370 University Hill Road   \n",
       "\n",
       "                city       state  zip_code        country  \\\n",
       "0  Rancho California  California   92390.0  United States   \n",
       "1          Armstrong    Illinois   61812.0  United States   \n",
       "\n",
       "                                 contact  birthdate  weight  height   bmi  \n",
       "0   951-719-9170ZoeWellish@superrito.com  7/10/1976   121.7      66  19.6  \n",
       "1  PamelaSHill@cuvox.de+1 (217) 569-3204   4/3/1967   118.8      66  19.2  "
      ]
     },
     "execution_count": 4,
     "metadata": {},
     "output_type": "execute_result"
    }
   ],
   "source": [
    "patients.head(2)"
   ]
  },
  {
   "cell_type": "markdown",
   "metadata": {},
   "source": [
    "`patients` columns:(Information given by Udacity)\n",
    "- **patient_id**: the unique identifier for each patient in the [Master Patient Index](https://en.wikipedia.org/wiki/Enterprise_master_patient_index) (i.e. patient database) of the pharmaceutical company that is producing Auralin\n",
    "- **assigned_sex**: the assigned sex of each patient at birth (male or female)\n",
    "- **given_name**: the given name (i.e. first name) of each patient\n",
    "- **surname**: the surname (i.e. last name) of each patient\n",
    "- **address**: the main address for each patient\n",
    "- **city**: the corresponding city for the main address of each patient\n",
    "- **state**: the corresponding state for the main address of each patient\n",
    "- **zip_code**: the corresponding zip code for the main address of each patient\n",
    "- **country**: the corresponding country for the main address of each patient (all United states for this clinical trial)\n",
    "- **contact**: phone number and email information for each patient\n",
    "- **birthdate**: the date of birth of each patient (month/day/year). The [inclusion criteria](https://en.wikipedia.org/wiki/Inclusion_and_exclusion_criteria) for this clinical trial is  age >= 18 *(there is no maximum age because diabetes is a [growing problem](http://www.diabetes.co.uk/diabetes-and-the-elderly.html) among the elderly population)*\n",
    "- **weight**: the weight of each patient in pounds (lbs)\n",
    "- **height**: the height of each patient in inches (in)\n",
    "- **bmi**: the Body Mass Index (BMI) of each patient. BMI is a simple calculation using a person's height and weight. The formula is BMI = kg/m<sup>2</sup> where kg is a person's weight in kilograms and m<sup>2</sup> is their height in metres squared. A BMI of 25.0 or more is overweight, while the healthy range is 18.5 to 24.9. *The [inclusion criteria](https://en.wikipedia.org/wiki/Inclusion_and_exclusion_criteria) for this clinical trial is 16 >= BMI >= 38.*"
   ]
  },
  {
   "cell_type": "code",
   "execution_count": 5,
   "metadata": {},
   "outputs": [
    {
     "data": {
      "text/html": [
       "<div>\n",
       "<style scoped>\n",
       "    .dataframe tbody tr th:only-of-type {\n",
       "        vertical-align: middle;\n",
       "    }\n",
       "\n",
       "    .dataframe tbody tr th {\n",
       "        vertical-align: top;\n",
       "    }\n",
       "\n",
       "    .dataframe thead th {\n",
       "        text-align: right;\n",
       "    }\n",
       "</style>\n",
       "<table border=\"1\" class=\"dataframe\">\n",
       "  <thead>\n",
       "    <tr style=\"text-align: right;\">\n",
       "      <th></th>\n",
       "      <th>given_name</th>\n",
       "      <th>surname</th>\n",
       "      <th>auralin</th>\n",
       "      <th>novodra</th>\n",
       "      <th>hba1c_start</th>\n",
       "      <th>hba1c_end</th>\n",
       "      <th>hba1c_change</th>\n",
       "    </tr>\n",
       "  </thead>\n",
       "  <tbody>\n",
       "    <tr>\n",
       "      <th>0</th>\n",
       "      <td>veronika</td>\n",
       "      <td>jindrová</td>\n",
       "      <td>41u - 48u</td>\n",
       "      <td>-</td>\n",
       "      <td>7.63</td>\n",
       "      <td>7.20</td>\n",
       "      <td>NaN</td>\n",
       "    </tr>\n",
       "    <tr>\n",
       "      <th>1</th>\n",
       "      <td>elliot</td>\n",
       "      <td>richardson</td>\n",
       "      <td>-</td>\n",
       "      <td>40u - 45u</td>\n",
       "      <td>7.56</td>\n",
       "      <td>7.09</td>\n",
       "      <td>0.97</td>\n",
       "    </tr>\n",
       "  </tbody>\n",
       "</table>\n",
       "</div>"
      ],
      "text/plain": [
       "  given_name     surname    auralin    novodra  hba1c_start  hba1c_end  \\\n",
       "0   veronika    jindrová  41u - 48u          -         7.63       7.20   \n",
       "1     elliot  richardson          -  40u - 45u         7.56       7.09   \n",
       "\n",
       "   hba1c_change  \n",
       "0           NaN  \n",
       "1          0.97  "
      ]
     },
     "execution_count": 5,
     "metadata": {},
     "output_type": "execute_result"
    }
   ],
   "source": [
    "treatments.head(2)"
   ]
  },
  {
   "cell_type": "markdown",
   "metadata": {},
   "source": [
    "350 patients participated in this clinical trial. None of the patients were using Novodra (a popular injectable insulin) or Auralin (the oral insulin being researched) as their primary source of insulin before.  All were experiencing elevated HbA1c levels.\n",
    "\n",
    "All 350 patients were treated with Novodra to establish a baseline HbA1c level and insulin dose. After four weeks, which isn’t enough time to capture all the change in HbA1c that can be attributed by the switch to Auralin or Novodra:\n",
    "- 175 patients switched to Auralin for 24 weeks\n",
    "- 175 patients continued using Novodra for 24 weeks\n",
    "\n",
    "`treatments` columns: (Information given by Udacity)\n",
    "- **given_name**: the given name of each patient in the Master Patient Index that took part in the clinical trial\n",
    "- **surname**: the surname of each patient in the Master Patient Index that took part in the clinical trial\n",
    "- **auralin**: the baseline median daily dose of insulin from the week prior to switching to Auralin (the number before the dash) *and* the ending median daily dose of insulin at the end of the 24 weeks of treatment measured over the 24th week of treatment (the number after the dash). Both are measured in units (shortform 'u'), which is the [international unit](https://en.wikipedia.org/wiki/International_unit) of measurement and the standard measurement for insulin.\n",
    "- **novodra**: same as above, except for patients that continued treatment with Novodra\n",
    "- **hba1c_start**: the patient's HbA1c level at the beginning of the first week of treatment. HbA1c stands for Hemoglobin A1c. The [HbA1c test](https://depts.washington.edu/uwcoe/healthtopics/diabetes.html) measures what the average blood sugar has been over the past three months. It is thus a powerful way to get an overall sense of how well diabetes has been controlled. Everyone with diabetes should have this test 2 to 4 times per year. Measured in %.\n",
    "- **hba1c_end**: the patient's HbA1c level at the end of the last week of treatment\n",
    "- **hba1c_change**: the change in the patient's HbA1c level from the start of treatment to the end, i.e., `hba1c_start` - `hba1c_end`. For Auralin to be deemed effective, it must be \"noninferior\" to Novodra, the current standard for insulin. This \"noninferiority\" is statistically defined as the upper bound of the 95% confidence interval being less than 0.4% for the difference between the mean HbA1c changes for Novodra and Auralin (i.e. Novodra minus Auralin)."
   ]
  },
  {
   "cell_type": "code",
   "execution_count": 6,
   "metadata": {},
   "outputs": [
    {
     "data": {
      "text/html": [
       "<div>\n",
       "<style scoped>\n",
       "    .dataframe tbody tr th:only-of-type {\n",
       "        vertical-align: middle;\n",
       "    }\n",
       "\n",
       "    .dataframe tbody tr th {\n",
       "        vertical-align: top;\n",
       "    }\n",
       "\n",
       "    .dataframe thead th {\n",
       "        text-align: right;\n",
       "    }\n",
       "</style>\n",
       "<table border=\"1\" class=\"dataframe\">\n",
       "  <thead>\n",
       "    <tr style=\"text-align: right;\">\n",
       "      <th></th>\n",
       "      <th>given_name</th>\n",
       "      <th>surname</th>\n",
       "      <th>adverse_reaction</th>\n",
       "    </tr>\n",
       "  </thead>\n",
       "  <tbody>\n",
       "    <tr>\n",
       "      <th>0</th>\n",
       "      <td>berta</td>\n",
       "      <td>napolitani</td>\n",
       "      <td>injection site discomfort</td>\n",
       "    </tr>\n",
       "    <tr>\n",
       "      <th>1</th>\n",
       "      <td>lena</td>\n",
       "      <td>baer</td>\n",
       "      <td>hypoglycemia</td>\n",
       "    </tr>\n",
       "    <tr>\n",
       "      <th>2</th>\n",
       "      <td>joseph</td>\n",
       "      <td>day</td>\n",
       "      <td>hypoglycemia</td>\n",
       "    </tr>\n",
       "  </tbody>\n",
       "</table>\n",
       "</div>"
      ],
      "text/plain": [
       "  given_name     surname           adverse_reaction\n",
       "0      berta  napolitani  injection site discomfort\n",
       "1       lena        baer               hypoglycemia\n",
       "2     joseph         day               hypoglycemia"
      ]
     },
     "execution_count": 6,
     "metadata": {},
     "output_type": "execute_result"
    }
   ],
   "source": [
    "adverse_reactions.head(3)"
   ]
  },
  {
   "cell_type": "markdown",
   "metadata": {},
   "source": [
    "`adverse_reactions` columns: (Information given by Udacity)\n",
    "- **given_name**: the given name of each patient in the Master Patient Index that took part in the clinical trial and had an adverse reaction (includes both patients treated Auralin and Novodra)\n",
    "- **surname**: the surname of each patient in the Master Patient Index that took part in the clinical trial and had an adverse reaction (includes both patients treated Auralin and Novodra)\n",
    "- **adverse_reaction**: the adverse reaction reported by the patient\n",
    "\n",
    "Additional useful information:\n",
    "- [Insulin resistance varies person to person](http://www.tudiabetes.org/forum/t/how-much-insulin-is-too-much-on-a-daily-basis/9804/5), which is why both starting median daily dose and ending median daily dose are required, i.e., to calculate change in dose.\n",
    "- It is important to test drugs and medical products in the people they are meant to help. People of different age, race, sex, and ethnic group must be included in clinical trials. This [diversity](https://www.clinicalleader.com/doc/an-fda-perspective-on-patient-diversity-in-clinical-trials-0001) is reflected in the `patients` table.\n",
    "- Ensuring column names are descriptive enough is an important step in acquainting yourself with the data. 'Descriptive enough' is subjective. Ideally you want short column names (so they are easier to type and read in code form) but also fully descriptive. Length vs. descriptiveness is a tradeoff and common debate (a [similar debate](https://softwareengineering.stackexchange.com/questions/176582/is-there-an-excuse-for-short-variable-names) exists for variable names). The *auralin* and *novodra* column names are probably not descriptive enough, but you'll address that later so don't worry about that for now."
   ]
  },
  {
   "cell_type": "markdown",
   "metadata": {},
   "source": [
    "#### Quality\n",
    "##### patients tabel:\n",
    "- zip code is a float and not a string\n",
    "- zip code has four digits sometimes\n",
    "- Tim Neudorf height is 27in instead of 72in\n",
    "- two representations of the state (full name and abbreviations)\n",
    "- Dsvid Gustafsson\n",
    "- Missing Demographic information (address -contact columns)\n",
    "- Erroneous datatypes (assigned sex, state, zip_code, and birthdate columns)\n",
    "- Multiple phone number formats\n",
    "- Default John Doe data\n",
    "- Multiple records for Jakobsen, Gertsen, Taylor\n",
    "- kgs instead of lbs for Zaitseva\n",
    "##### treatments table: \n",
    "- missing HbA1c changes\n",
    "- the letter u in dtarting and ending doses for AUralin and Novodra\n",
    "- lowercase given names and surnames\n",
    "- missing records (280 instead of 350)\n",
    "- Erroneous datatype (auralin and novodra columns)\n",
    "- Innaccurate HbA1c change\n",
    "- Nulls represented as (-) in auralin and novodra columns\n",
    "##### adverse_reactions table:\n",
    "- lowercase given names and surnames"
   ]
  },
  {
   "cell_type": "markdown",
   "metadata": {},
   "source": [
    "#### Tidiness \n",
    "- Contact column in patients table should be split into phone number and email\n",
    "- Three variables in two columns in treatments table (treatment, start dose and end dose)\n",
    "- Adverse reaction should be part of the treatments table\n",
    "- Given name and surname columns in patients table duplicated in treatments and adverse_reactions tables"
   ]
  },
  {
   "cell_type": "markdown",
   "metadata": {},
   "source": [
    "## Cleaning Data\n",
    "We will first make a copy of each of the data frames above as to not change the original data."
   ]
  },
  {
   "cell_type": "code",
   "execution_count": 107,
   "metadata": {},
   "outputs": [],
   "source": [
    "pat_clean = patients.copy()\n",
    "adv_clean = adverse_reactions.copy()\n",
    "tre_clean = treatments.copy()"
   ]
  },
  {
   "cell_type": "markdown",
   "metadata": {},
   "source": [
    "### Missing Data "
   ]
  },
  {
   "cell_type": "markdown",
   "metadata": {},
   "source": [
    "##### Define treatments: missing records (280 instead of 350)\n",
    "- the missing data for treatments records are stored in the file (treatments_cut.csv)\n",
    "- read in the missing data file into a df\n",
    "- Join or concatenate the missing data into the tre_clean df"
   ]
  },
  {
   "cell_type": "code",
   "execution_count": 108,
   "metadata": {},
   "outputs": [
    {
     "name": "stdout",
     "output_type": "stream",
     "text": [
      "<class 'pandas.core.frame.DataFrame'>\n",
      "RangeIndex: 70 entries, 0 to 69\n",
      "Data columns (total 7 columns):\n",
      " #   Column        Non-Null Count  Dtype  \n",
      "---  ------        --------------  -----  \n",
      " 0   given_name    70 non-null     object \n",
      " 1   surname       70 non-null     object \n",
      " 2   auralin       70 non-null     object \n",
      " 3   novodra       70 non-null     object \n",
      " 4   hba1c_start   70 non-null     float64\n",
      " 5   hba1c_end     70 non-null     float64\n",
      " 6   hba1c_change  42 non-null     float64\n",
      "dtypes: float64(3), object(4)\n",
      "memory usage: 4.0+ KB\n"
     ]
    }
   ],
   "source": [
    "treatments_cut = pd.read_csv('treatments_cut.csv')\n",
    "treatments_cut.info()"
   ]
  },
  {
   "cell_type": "markdown",
   "metadata": {},
   "source": [
    "##### Code"
   ]
  },
  {
   "cell_type": "code",
   "execution_count": 109,
   "metadata": {},
   "outputs": [],
   "source": [
    "tre_clean = pd.concat([tre_clean, treatments_cut], ignore_index=True)"
   ]
  },
  {
   "cell_type": "markdown",
   "metadata": {},
   "source": [
    "##### Test"
   ]
  },
  {
   "cell_type": "code",
   "execution_count": 110,
   "metadata": {},
   "outputs": [
    {
     "name": "stdout",
     "output_type": "stream",
     "text": [
      "<class 'pandas.core.frame.DataFrame'>\n",
      "RangeIndex: 350 entries, 0 to 349\n",
      "Data columns (total 7 columns):\n",
      " #   Column        Non-Null Count  Dtype  \n",
      "---  ------        --------------  -----  \n",
      " 0   given_name    350 non-null    object \n",
      " 1   surname       350 non-null    object \n",
      " 2   auralin       350 non-null    object \n",
      " 3   novodra       350 non-null    object \n",
      " 4   hba1c_start   350 non-null    float64\n",
      " 5   hba1c_end     350 non-null    float64\n",
      " 6   hba1c_change  213 non-null    float64\n",
      "dtypes: float64(3), object(4)\n",
      "memory usage: 19.3+ KB\n"
     ]
    }
   ],
   "source": [
    "tre_clean.info()"
   ]
  },
  {
   "cell_type": "markdown",
   "metadata": {},
   "source": [
    "##### Define - Missing HbA1c change red\n",
    "- We will have to calculate all new data for the hba1c_change column due to the amount of missing and inaccurate results"
   ]
  },
  {
   "cell_type": "markdown",
   "metadata": {},
   "source": [
    "##### Code"
   ]
  },
  {
   "cell_type": "code",
   "execution_count": 111,
   "metadata": {},
   "outputs": [],
   "source": [
    "tre_clean.hba1c_change = tre_clean.hba1c_start - tre_clean.hba1c_end"
   ]
  },
  {
   "cell_type": "markdown",
   "metadata": {},
   "source": [
    "##### Test"
   ]
  },
  {
   "cell_type": "code",
   "execution_count": 112,
   "metadata": {},
   "outputs": [
    {
     "data": {
      "text/html": [
       "<div>\n",
       "<style scoped>\n",
       "    .dataframe tbody tr th:only-of-type {\n",
       "        vertical-align: middle;\n",
       "    }\n",
       "\n",
       "    .dataframe tbody tr th {\n",
       "        vertical-align: top;\n",
       "    }\n",
       "\n",
       "    .dataframe thead th {\n",
       "        text-align: right;\n",
       "    }\n",
       "</style>\n",
       "<table border=\"1\" class=\"dataframe\">\n",
       "  <thead>\n",
       "    <tr style=\"text-align: right;\">\n",
       "      <th></th>\n",
       "      <th>given_name</th>\n",
       "      <th>surname</th>\n",
       "      <th>auralin</th>\n",
       "      <th>novodra</th>\n",
       "      <th>hba1c_start</th>\n",
       "      <th>hba1c_end</th>\n",
       "      <th>hba1c_change</th>\n",
       "    </tr>\n",
       "  </thead>\n",
       "  <tbody>\n",
       "    <tr>\n",
       "      <th>0</th>\n",
       "      <td>veronika</td>\n",
       "      <td>jindrová</td>\n",
       "      <td>41u - 48u</td>\n",
       "      <td>-</td>\n",
       "      <td>7.63</td>\n",
       "      <td>7.20</td>\n",
       "      <td>0.43</td>\n",
       "    </tr>\n",
       "    <tr>\n",
       "      <th>1</th>\n",
       "      <td>elliot</td>\n",
       "      <td>richardson</td>\n",
       "      <td>-</td>\n",
       "      <td>40u - 45u</td>\n",
       "      <td>7.56</td>\n",
       "      <td>7.09</td>\n",
       "      <td>0.47</td>\n",
       "    </tr>\n",
       "    <tr>\n",
       "      <th>2</th>\n",
       "      <td>yukitaka</td>\n",
       "      <td>takenaka</td>\n",
       "      <td>-</td>\n",
       "      <td>39u - 36u</td>\n",
       "      <td>7.68</td>\n",
       "      <td>7.25</td>\n",
       "      <td>0.43</td>\n",
       "    </tr>\n",
       "    <tr>\n",
       "      <th>3</th>\n",
       "      <td>skye</td>\n",
       "      <td>gormanston</td>\n",
       "      <td>33u - 36u</td>\n",
       "      <td>-</td>\n",
       "      <td>7.97</td>\n",
       "      <td>7.62</td>\n",
       "      <td>0.35</td>\n",
       "    </tr>\n",
       "    <tr>\n",
       "      <th>4</th>\n",
       "      <td>alissa</td>\n",
       "      <td>montez</td>\n",
       "      <td>-</td>\n",
       "      <td>33u - 29u</td>\n",
       "      <td>7.78</td>\n",
       "      <td>7.46</td>\n",
       "      <td>0.32</td>\n",
       "    </tr>\n",
       "    <tr>\n",
       "      <th>...</th>\n",
       "      <td>...</td>\n",
       "      <td>...</td>\n",
       "      <td>...</td>\n",
       "      <td>...</td>\n",
       "      <td>...</td>\n",
       "      <td>...</td>\n",
       "      <td>...</td>\n",
       "    </tr>\n",
       "    <tr>\n",
       "      <th>345</th>\n",
       "      <td>rovzan</td>\n",
       "      <td>kishiev</td>\n",
       "      <td>32u - 37u</td>\n",
       "      <td>-</td>\n",
       "      <td>7.75</td>\n",
       "      <td>7.41</td>\n",
       "      <td>0.34</td>\n",
       "    </tr>\n",
       "    <tr>\n",
       "      <th>346</th>\n",
       "      <td>jakob</td>\n",
       "      <td>jakobsen</td>\n",
       "      <td>-</td>\n",
       "      <td>28u - 26u</td>\n",
       "      <td>7.96</td>\n",
       "      <td>7.51</td>\n",
       "      <td>0.45</td>\n",
       "    </tr>\n",
       "    <tr>\n",
       "      <th>347</th>\n",
       "      <td>bernd</td>\n",
       "      <td>schneider</td>\n",
       "      <td>48u - 56u</td>\n",
       "      <td>-</td>\n",
       "      <td>7.74</td>\n",
       "      <td>7.44</td>\n",
       "      <td>0.30</td>\n",
       "    </tr>\n",
       "    <tr>\n",
       "      <th>348</th>\n",
       "      <td>berta</td>\n",
       "      <td>napolitani</td>\n",
       "      <td>-</td>\n",
       "      <td>42u - 44u</td>\n",
       "      <td>7.68</td>\n",
       "      <td>7.21</td>\n",
       "      <td>0.47</td>\n",
       "    </tr>\n",
       "    <tr>\n",
       "      <th>349</th>\n",
       "      <td>armina</td>\n",
       "      <td>sauvé</td>\n",
       "      <td>36u - 46u</td>\n",
       "      <td>-</td>\n",
       "      <td>7.86</td>\n",
       "      <td>7.40</td>\n",
       "      <td>0.46</td>\n",
       "    </tr>\n",
       "  </tbody>\n",
       "</table>\n",
       "<p>350 rows × 7 columns</p>\n",
       "</div>"
      ],
      "text/plain": [
       "    given_name     surname    auralin    novodra  hba1c_start  hba1c_end  \\\n",
       "0     veronika    jindrová  41u - 48u          -         7.63       7.20   \n",
       "1       elliot  richardson          -  40u - 45u         7.56       7.09   \n",
       "2     yukitaka    takenaka          -  39u - 36u         7.68       7.25   \n",
       "3         skye  gormanston  33u - 36u          -         7.97       7.62   \n",
       "4       alissa      montez          -  33u - 29u         7.78       7.46   \n",
       "..         ...         ...        ...        ...          ...        ...   \n",
       "345     rovzan     kishiev  32u - 37u          -         7.75       7.41   \n",
       "346      jakob    jakobsen          -  28u - 26u         7.96       7.51   \n",
       "347      bernd   schneider  48u - 56u          -         7.74       7.44   \n",
       "348      berta  napolitani          -  42u - 44u         7.68       7.21   \n",
       "349     armina       sauvé  36u - 46u          -         7.86       7.40   \n",
       "\n",
       "     hba1c_change  \n",
       "0            0.43  \n",
       "1            0.47  \n",
       "2            0.43  \n",
       "3            0.35  \n",
       "4            0.32  \n",
       "..            ...  \n",
       "345          0.34  \n",
       "346          0.45  \n",
       "347          0.30  \n",
       "348          0.47  \n",
       "349          0.46  \n",
       "\n",
       "[350 rows x 7 columns]"
      ]
     },
     "execution_count": 112,
     "metadata": {},
     "output_type": "execute_result"
    }
   ],
   "source": [
    "tre_clean"
   ]
  },
  {
   "cell_type": "markdown",
   "metadata": {},
   "source": [
    "### Tidiness"
   ]
  },
  {
   "cell_type": "markdown",
   "metadata": {},
   "source": [
    "##### Define: contact column in patients table contains two variables: phone number and email\n",
    "- We will need to seperate the contact column into two separate columns\n",
    "    - phone_number column\n",
    "    - email column"
   ]
  },
  {
   "cell_type": "code",
   "execution_count": 113,
   "metadata": {},
   "outputs": [],
   "source": [
    "# add phone numbers to a column from contacts\n",
    "pat_clean['phone_numbers'] = pat_clean.contact.str.extract('((?:\\+\\d{1,2}\\s)?\\(?\\d{3}\\)?[\\s.-]?\\d{3}[\\s.-]?\\d{4})', expand=True)\n",
    "\n",
    "# add email to a column from contacts\n",
    "pat_clean['email'] = pat_clean.contact.str.extract('([a-zA-Z][a-zA-Z0-9_.+-]+@[a-zA-Z0-9-]+\\.[a-zA-Z0-9-.]+[a-zA-Z])', expand=True)\n",
    "\n",
    "# drop contact column\n",
    "pat_clean = pat_clean.drop('contact', axis=1)"
   ]
  },
  {
   "cell_type": "code",
   "execution_count": 114,
   "metadata": {},
   "outputs": [
    {
     "data": {
      "text/html": [
       "<div>\n",
       "<style scoped>\n",
       "    .dataframe tbody tr th:only-of-type {\n",
       "        vertical-align: middle;\n",
       "    }\n",
       "\n",
       "    .dataframe tbody tr th {\n",
       "        vertical-align: top;\n",
       "    }\n",
       "\n",
       "    .dataframe thead th {\n",
       "        text-align: right;\n",
       "    }\n",
       "</style>\n",
       "<table border=\"1\" class=\"dataframe\">\n",
       "  <thead>\n",
       "    <tr style=\"text-align: right;\">\n",
       "      <th></th>\n",
       "      <th>patient_id</th>\n",
       "      <th>assigned_sex</th>\n",
       "      <th>given_name</th>\n",
       "      <th>surname</th>\n",
       "      <th>address</th>\n",
       "      <th>city</th>\n",
       "      <th>state</th>\n",
       "      <th>zip_code</th>\n",
       "      <th>country</th>\n",
       "      <th>birthdate</th>\n",
       "      <th>weight</th>\n",
       "      <th>height</th>\n",
       "      <th>bmi</th>\n",
       "      <th>phone_numbers</th>\n",
       "      <th>email</th>\n",
       "    </tr>\n",
       "  </thead>\n",
       "  <tbody>\n",
       "    <tr>\n",
       "      <th>0</th>\n",
       "      <td>1</td>\n",
       "      <td>female</td>\n",
       "      <td>Zoe</td>\n",
       "      <td>Wellish</td>\n",
       "      <td>576 Brown Bear Drive</td>\n",
       "      <td>Rancho California</td>\n",
       "      <td>California</td>\n",
       "      <td>92390.0</td>\n",
       "      <td>United States</td>\n",
       "      <td>7/10/1976</td>\n",
       "      <td>121.7</td>\n",
       "      <td>66</td>\n",
       "      <td>19.6</td>\n",
       "      <td>951-719-9170</td>\n",
       "      <td>ZoeWellish@superrito.com</td>\n",
       "    </tr>\n",
       "    <tr>\n",
       "      <th>1</th>\n",
       "      <td>2</td>\n",
       "      <td>female</td>\n",
       "      <td>Pamela</td>\n",
       "      <td>Hill</td>\n",
       "      <td>2370 University Hill Road</td>\n",
       "      <td>Armstrong</td>\n",
       "      <td>Illinois</td>\n",
       "      <td>61812.0</td>\n",
       "      <td>United States</td>\n",
       "      <td>4/3/1967</td>\n",
       "      <td>118.8</td>\n",
       "      <td>66</td>\n",
       "      <td>19.2</td>\n",
       "      <td>+1 (217) 569-3204</td>\n",
       "      <td>PamelaSHill@cuvox.de</td>\n",
       "    </tr>\n",
       "    <tr>\n",
       "      <th>2</th>\n",
       "      <td>3</td>\n",
       "      <td>male</td>\n",
       "      <td>Jae</td>\n",
       "      <td>Debord</td>\n",
       "      <td>1493 Poling Farm Road</td>\n",
       "      <td>York</td>\n",
       "      <td>Nebraska</td>\n",
       "      <td>68467.0</td>\n",
       "      <td>United States</td>\n",
       "      <td>2/19/1980</td>\n",
       "      <td>177.8</td>\n",
       "      <td>71</td>\n",
       "      <td>24.8</td>\n",
       "      <td>402-363-6804</td>\n",
       "      <td>JaeMDebord@gustr.com</td>\n",
       "    </tr>\n",
       "    <tr>\n",
       "      <th>3</th>\n",
       "      <td>4</td>\n",
       "      <td>male</td>\n",
       "      <td>Liêm</td>\n",
       "      <td>Phan</td>\n",
       "      <td>2335 Webster Street</td>\n",
       "      <td>Woodbridge</td>\n",
       "      <td>NJ</td>\n",
       "      <td>7095.0</td>\n",
       "      <td>United States</td>\n",
       "      <td>7/26/1951</td>\n",
       "      <td>220.9</td>\n",
       "      <td>70</td>\n",
       "      <td>31.7</td>\n",
       "      <td>+1 (732) 636-8246</td>\n",
       "      <td>PhanBaLiem@jourrapide.com</td>\n",
       "    </tr>\n",
       "  </tbody>\n",
       "</table>\n",
       "</div>"
      ],
      "text/plain": [
       "   patient_id assigned_sex given_name  surname                    address  \\\n",
       "0           1       female        Zoe  Wellish       576 Brown Bear Drive   \n",
       "1           2       female     Pamela     Hill  2370 University Hill Road   \n",
       "2           3         male        Jae   Debord      1493 Poling Farm Road   \n",
       "3           4         male       Liêm     Phan        2335 Webster Street   \n",
       "\n",
       "                city       state  zip_code        country  birthdate  weight  \\\n",
       "0  Rancho California  California   92390.0  United States  7/10/1976   121.7   \n",
       "1          Armstrong    Illinois   61812.0  United States   4/3/1967   118.8   \n",
       "2               York    Nebraska   68467.0  United States  2/19/1980   177.8   \n",
       "3         Woodbridge          NJ    7095.0  United States  7/26/1951   220.9   \n",
       "\n",
       "   height   bmi      phone_numbers                      email  \n",
       "0      66  19.6       951-719-9170   ZoeWellish@superrito.com  \n",
       "1      66  19.2  +1 (217) 569-3204       PamelaSHill@cuvox.de  \n",
       "2      71  24.8       402-363-6804       JaeMDebord@gustr.com  \n",
       "3      70  31.7  +1 (732) 636-8246  PhanBaLiem@jourrapide.com  "
      ]
     },
     "execution_count": 114,
     "metadata": {},
     "output_type": "execute_result"
    }
   ],
   "source": [
    "pat_clean.head(4)"
   ]
  },
  {
   "cell_type": "markdown",
   "metadata": {},
   "source": [
    "##### Define: Three variables in two columns for the treatment table (treatment, start dose and end dose)\n",
    "- Melt the auralin and novodra columns to a treatment and dose column. Then split the dose column on \"-\" to obtain the start_dose and end_dose columns\n",
    "- drop intermediate dose column"
   ]
  },
  {
   "cell_type": "markdown",
   "metadata": {},
   "source": [
    "##### Code"
   ]
  },
  {
   "cell_type": "code",
   "execution_count": 115,
   "metadata": {},
   "outputs": [
    {
     "name": "stderr",
     "output_type": "stream",
     "text": [
      "C:\\Users\\sethb\\Anaconda3\\lib\\site-packages\\ipykernel_launcher.py:4: FutureWarning: Columnar iteration over characters will be deprecated in future releases.\n",
      "  after removing the cwd from sys.path.\n"
     ]
    }
   ],
   "source": [
    "tre_clean = pd.melt(tre_clean, id_vars=['given_name', 'surname', 'hba1c_start', 'hba1c_end', 'hba1c_change'],\n",
    "                           var_name='treatment', value_name='dose')\n",
    "tre_clean = tre_clean[tre_clean.dose != \"-\"]\n",
    "tre_clean['dose_start'], tre_clean['dose_end'] = tre_clean['dose'].str.split(' - ', 1).str\n",
    "tre_clean = tre_clean.drop('dose', axis=1)"
   ]
  },
  {
   "cell_type": "markdown",
   "metadata": {},
   "source": [
    "##### Test"
   ]
  },
  {
   "cell_type": "code",
   "execution_count": 116,
   "metadata": {},
   "outputs": [
    {
     "data": {
      "text/html": [
       "<div>\n",
       "<style scoped>\n",
       "    .dataframe tbody tr th:only-of-type {\n",
       "        vertical-align: middle;\n",
       "    }\n",
       "\n",
       "    .dataframe tbody tr th {\n",
       "        vertical-align: top;\n",
       "    }\n",
       "\n",
       "    .dataframe thead th {\n",
       "        text-align: right;\n",
       "    }\n",
       "</style>\n",
       "<table border=\"1\" class=\"dataframe\">\n",
       "  <thead>\n",
       "    <tr style=\"text-align: right;\">\n",
       "      <th></th>\n",
       "      <th>given_name</th>\n",
       "      <th>surname</th>\n",
       "      <th>hba1c_start</th>\n",
       "      <th>hba1c_end</th>\n",
       "      <th>hba1c_change</th>\n",
       "      <th>treatment</th>\n",
       "      <th>dose_start</th>\n",
       "      <th>dose_end</th>\n",
       "    </tr>\n",
       "  </thead>\n",
       "  <tbody>\n",
       "    <tr>\n",
       "      <th>0</th>\n",
       "      <td>veronika</td>\n",
       "      <td>jindrová</td>\n",
       "      <td>7.63</td>\n",
       "      <td>7.20</td>\n",
       "      <td>0.43</td>\n",
       "      <td>auralin</td>\n",
       "      <td>41u</td>\n",
       "      <td>48u</td>\n",
       "    </tr>\n",
       "    <tr>\n",
       "      <th>3</th>\n",
       "      <td>skye</td>\n",
       "      <td>gormanston</td>\n",
       "      <td>7.97</td>\n",
       "      <td>7.62</td>\n",
       "      <td>0.35</td>\n",
       "      <td>auralin</td>\n",
       "      <td>33u</td>\n",
       "      <td>36u</td>\n",
       "    </tr>\n",
       "    <tr>\n",
       "      <th>6</th>\n",
       "      <td>sophia</td>\n",
       "      <td>haugen</td>\n",
       "      <td>7.65</td>\n",
       "      <td>7.27</td>\n",
       "      <td>0.38</td>\n",
       "      <td>auralin</td>\n",
       "      <td>37u</td>\n",
       "      <td>42u</td>\n",
       "    </tr>\n",
       "  </tbody>\n",
       "</table>\n",
       "</div>"
      ],
      "text/plain": [
       "  given_name     surname  hba1c_start  hba1c_end  hba1c_change treatment  \\\n",
       "0   veronika    jindrová         7.63       7.20          0.43   auralin   \n",
       "3       skye  gormanston         7.97       7.62          0.35   auralin   \n",
       "6     sophia      haugen         7.65       7.27          0.38   auralin   \n",
       "\n",
       "  dose_start dose_end  \n",
       "0        41u      48u  \n",
       "3        33u      36u  \n",
       "6        37u      42u  "
      ]
     },
     "execution_count": 116,
     "metadata": {},
     "output_type": "execute_result"
    }
   ],
   "source": [
    "tre_clean.head(3)"
   ]
  },
  {
   "cell_type": "markdown",
   "metadata": {},
   "source": [
    "##### Define: Adverse reaction should be part of the treatments table\n",
    "- Merge the adverse_reaction column to the treatments table, joining on given name and surname"
   ]
  },
  {
   "cell_type": "markdown",
   "metadata": {},
   "source": [
    "##### Code"
   ]
  },
  {
   "cell_type": "code",
   "execution_count": 117,
   "metadata": {},
   "outputs": [],
   "source": [
    "tre_clean = pd.merge(tre_clean, adv_clean, on=['given_name', 'surname'], how='left')"
   ]
  },
  {
   "cell_type": "markdown",
   "metadata": {},
   "source": [
    "##### Test"
   ]
  },
  {
   "cell_type": "code",
   "execution_count": 118,
   "metadata": {},
   "outputs": [
    {
     "data": {
      "text/html": [
       "<div>\n",
       "<style scoped>\n",
       "    .dataframe tbody tr th:only-of-type {\n",
       "        vertical-align: middle;\n",
       "    }\n",
       "\n",
       "    .dataframe tbody tr th {\n",
       "        vertical-align: top;\n",
       "    }\n",
       "\n",
       "    .dataframe thead th {\n",
       "        text-align: right;\n",
       "    }\n",
       "</style>\n",
       "<table border=\"1\" class=\"dataframe\">\n",
       "  <thead>\n",
       "    <tr style=\"text-align: right;\">\n",
       "      <th></th>\n",
       "      <th>given_name</th>\n",
       "      <th>surname</th>\n",
       "      <th>hba1c_start</th>\n",
       "      <th>hba1c_end</th>\n",
       "      <th>hba1c_change</th>\n",
       "      <th>treatment</th>\n",
       "      <th>dose_start</th>\n",
       "      <th>dose_end</th>\n",
       "      <th>adverse_reaction</th>\n",
       "    </tr>\n",
       "  </thead>\n",
       "  <tbody>\n",
       "    <tr>\n",
       "      <th>0</th>\n",
       "      <td>veronika</td>\n",
       "      <td>jindrová</td>\n",
       "      <td>7.63</td>\n",
       "      <td>7.20</td>\n",
       "      <td>0.43</td>\n",
       "      <td>auralin</td>\n",
       "      <td>41u</td>\n",
       "      <td>48u</td>\n",
       "      <td>NaN</td>\n",
       "    </tr>\n",
       "    <tr>\n",
       "      <th>1</th>\n",
       "      <td>skye</td>\n",
       "      <td>gormanston</td>\n",
       "      <td>7.97</td>\n",
       "      <td>7.62</td>\n",
       "      <td>0.35</td>\n",
       "      <td>auralin</td>\n",
       "      <td>33u</td>\n",
       "      <td>36u</td>\n",
       "      <td>NaN</td>\n",
       "    </tr>\n",
       "    <tr>\n",
       "      <th>2</th>\n",
       "      <td>sophia</td>\n",
       "      <td>haugen</td>\n",
       "      <td>7.65</td>\n",
       "      <td>7.27</td>\n",
       "      <td>0.38</td>\n",
       "      <td>auralin</td>\n",
       "      <td>37u</td>\n",
       "      <td>42u</td>\n",
       "      <td>NaN</td>\n",
       "    </tr>\n",
       "    <tr>\n",
       "      <th>3</th>\n",
       "      <td>eddie</td>\n",
       "      <td>archer</td>\n",
       "      <td>7.89</td>\n",
       "      <td>7.55</td>\n",
       "      <td>0.34</td>\n",
       "      <td>auralin</td>\n",
       "      <td>31u</td>\n",
       "      <td>38u</td>\n",
       "      <td>NaN</td>\n",
       "    </tr>\n",
       "    <tr>\n",
       "      <th>4</th>\n",
       "      <td>asia</td>\n",
       "      <td>woźniak</td>\n",
       "      <td>7.76</td>\n",
       "      <td>7.37</td>\n",
       "      <td>0.39</td>\n",
       "      <td>auralin</td>\n",
       "      <td>30u</td>\n",
       "      <td>36u</td>\n",
       "      <td>NaN</td>\n",
       "    </tr>\n",
       "    <tr>\n",
       "      <th>...</th>\n",
       "      <td>...</td>\n",
       "      <td>...</td>\n",
       "      <td>...</td>\n",
       "      <td>...</td>\n",
       "      <td>...</td>\n",
       "      <td>...</td>\n",
       "      <td>...</td>\n",
       "      <td>...</td>\n",
       "      <td>...</td>\n",
       "    </tr>\n",
       "    <tr>\n",
       "      <th>345</th>\n",
       "      <td>christopher</td>\n",
       "      <td>woodward</td>\n",
       "      <td>7.51</td>\n",
       "      <td>7.06</td>\n",
       "      <td>0.45</td>\n",
       "      <td>novodra</td>\n",
       "      <td>55u</td>\n",
       "      <td>51u</td>\n",
       "      <td>nausea</td>\n",
       "    </tr>\n",
       "    <tr>\n",
       "      <th>346</th>\n",
       "      <td>maret</td>\n",
       "      <td>sultygov</td>\n",
       "      <td>7.67</td>\n",
       "      <td>7.30</td>\n",
       "      <td>0.37</td>\n",
       "      <td>novodra</td>\n",
       "      <td>26u</td>\n",
       "      <td>23u</td>\n",
       "      <td>NaN</td>\n",
       "    </tr>\n",
       "    <tr>\n",
       "      <th>347</th>\n",
       "      <td>lixue</td>\n",
       "      <td>hsueh</td>\n",
       "      <td>9.21</td>\n",
       "      <td>8.80</td>\n",
       "      <td>0.41</td>\n",
       "      <td>novodra</td>\n",
       "      <td>22u</td>\n",
       "      <td>23u</td>\n",
       "      <td>injection site discomfort</td>\n",
       "    </tr>\n",
       "    <tr>\n",
       "      <th>348</th>\n",
       "      <td>jakob</td>\n",
       "      <td>jakobsen</td>\n",
       "      <td>7.96</td>\n",
       "      <td>7.51</td>\n",
       "      <td>0.45</td>\n",
       "      <td>novodra</td>\n",
       "      <td>28u</td>\n",
       "      <td>26u</td>\n",
       "      <td>hypoglycemia</td>\n",
       "    </tr>\n",
       "    <tr>\n",
       "      <th>349</th>\n",
       "      <td>berta</td>\n",
       "      <td>napolitani</td>\n",
       "      <td>7.68</td>\n",
       "      <td>7.21</td>\n",
       "      <td>0.47</td>\n",
       "      <td>novodra</td>\n",
       "      <td>42u</td>\n",
       "      <td>44u</td>\n",
       "      <td>injection site discomfort</td>\n",
       "    </tr>\n",
       "  </tbody>\n",
       "</table>\n",
       "<p>350 rows × 9 columns</p>\n",
       "</div>"
      ],
      "text/plain": [
       "      given_name     surname  hba1c_start  hba1c_end  hba1c_change treatment  \\\n",
       "0       veronika    jindrová         7.63       7.20          0.43   auralin   \n",
       "1           skye  gormanston         7.97       7.62          0.35   auralin   \n",
       "2         sophia      haugen         7.65       7.27          0.38   auralin   \n",
       "3          eddie      archer         7.89       7.55          0.34   auralin   \n",
       "4           asia     woźniak         7.76       7.37          0.39   auralin   \n",
       "..           ...         ...          ...        ...           ...       ...   \n",
       "345  christopher    woodward         7.51       7.06          0.45   novodra   \n",
       "346        maret    sultygov         7.67       7.30          0.37   novodra   \n",
       "347        lixue       hsueh         9.21       8.80          0.41   novodra   \n",
       "348        jakob    jakobsen         7.96       7.51          0.45   novodra   \n",
       "349        berta  napolitani         7.68       7.21          0.47   novodra   \n",
       "\n",
       "    dose_start dose_end           adverse_reaction  \n",
       "0          41u      48u                        NaN  \n",
       "1          33u      36u                        NaN  \n",
       "2          37u      42u                        NaN  \n",
       "3          31u      38u                        NaN  \n",
       "4          30u      36u                        NaN  \n",
       "..         ...      ...                        ...  \n",
       "345        55u      51u                     nausea  \n",
       "346        26u      23u                        NaN  \n",
       "347        22u      23u  injection site discomfort  \n",
       "348        28u      26u               hypoglycemia  \n",
       "349        42u      44u  injection site discomfort  \n",
       "\n",
       "[350 rows x 9 columns]"
      ]
     },
     "execution_count": 118,
     "metadata": {},
     "output_type": "execute_result"
    }
   ],
   "source": [
    "tre_clean"
   ]
  },
  {
   "cell_type": "markdown",
   "metadata": {},
   "source": [
    "##### Define: Given name and surname columns in patients table duplicated in treatments and adverse reactions tables and lowercase given names and surnames\n",
    "- adv reaction table is no longer needed so we can ignore that\n",
    "- Isolate the patient id and names in the patients table then convert these names to lower case to join with treatments\n",
    "- Drop the given name and surname columns in the treatments table (these being lowercase isnt an issue anymore)"
   ]
  },
  {
   "cell_type": "markdown",
   "metadata": {},
   "source": [
    "##### Code"
   ]
  },
  {
   "cell_type": "code",
   "execution_count": 119,
   "metadata": {},
   "outputs": [
    {
     "name": "stderr",
     "output_type": "stream",
     "text": [
      "C:\\Users\\sethb\\Anaconda3\\lib\\site-packages\\pandas\\core\\generic.py:5303: SettingWithCopyWarning: \n",
      "A value is trying to be set on a copy of a slice from a DataFrame.\n",
      "Try using .loc[row_indexer,col_indexer] = value instead\n",
      "\n",
      "See the caveats in the documentation: https://pandas.pydata.org/pandas-docs/stable/user_guide/indexing.html#returning-a-view-versus-a-copy\n",
      "  self[name] = value\n"
     ]
    }
   ],
   "source": [
    "id_names = pat_clean[['patient_id', 'given_name', 'surname']]\n",
    "id_names.given_name = id_names.given_name.str.lower()\n",
    "id_names.surname = id_names.surname.str.lower()\n",
    "tre_clean = pd.merge(tre_clean, id_names, on=['given_name', 'surname'])\n",
    "tre_clean = tre_clean.drop(['given_name', 'surname'], axis=1)"
   ]
  },
  {
   "cell_type": "markdown",
   "metadata": {},
   "source": [
    "##### Test"
   ]
  },
  {
   "cell_type": "code",
   "execution_count": 120,
   "metadata": {},
   "outputs": [
    {
     "data": {
      "text/html": [
       "<div>\n",
       "<style scoped>\n",
       "    .dataframe tbody tr th:only-of-type {\n",
       "        vertical-align: middle;\n",
       "    }\n",
       "\n",
       "    .dataframe tbody tr th {\n",
       "        vertical-align: top;\n",
       "    }\n",
       "\n",
       "    .dataframe thead th {\n",
       "        text-align: right;\n",
       "    }\n",
       "</style>\n",
       "<table border=\"1\" class=\"dataframe\">\n",
       "  <thead>\n",
       "    <tr style=\"text-align: right;\">\n",
       "      <th></th>\n",
       "      <th>hba1c_start</th>\n",
       "      <th>hba1c_end</th>\n",
       "      <th>hba1c_change</th>\n",
       "      <th>treatment</th>\n",
       "      <th>dose_start</th>\n",
       "      <th>dose_end</th>\n",
       "      <th>adverse_reaction</th>\n",
       "      <th>patient_id</th>\n",
       "    </tr>\n",
       "  </thead>\n",
       "  <tbody>\n",
       "    <tr>\n",
       "      <th>0</th>\n",
       "      <td>7.63</td>\n",
       "      <td>7.20</td>\n",
       "      <td>0.43</td>\n",
       "      <td>auralin</td>\n",
       "      <td>41u</td>\n",
       "      <td>48u</td>\n",
       "      <td>NaN</td>\n",
       "      <td>225</td>\n",
       "    </tr>\n",
       "    <tr>\n",
       "      <th>1</th>\n",
       "      <td>7.97</td>\n",
       "      <td>7.62</td>\n",
       "      <td>0.35</td>\n",
       "      <td>auralin</td>\n",
       "      <td>33u</td>\n",
       "      <td>36u</td>\n",
       "      <td>NaN</td>\n",
       "      <td>242</td>\n",
       "    </tr>\n",
       "    <tr>\n",
       "      <th>2</th>\n",
       "      <td>7.65</td>\n",
       "      <td>7.27</td>\n",
       "      <td>0.38</td>\n",
       "      <td>auralin</td>\n",
       "      <td>37u</td>\n",
       "      <td>42u</td>\n",
       "      <td>NaN</td>\n",
       "      <td>345</td>\n",
       "    </tr>\n",
       "    <tr>\n",
       "      <th>3</th>\n",
       "      <td>7.89</td>\n",
       "      <td>7.55</td>\n",
       "      <td>0.34</td>\n",
       "      <td>auralin</td>\n",
       "      <td>31u</td>\n",
       "      <td>38u</td>\n",
       "      <td>NaN</td>\n",
       "      <td>276</td>\n",
       "    </tr>\n",
       "    <tr>\n",
       "      <th>4</th>\n",
       "      <td>7.76</td>\n",
       "      <td>7.37</td>\n",
       "      <td>0.39</td>\n",
       "      <td>auralin</td>\n",
       "      <td>30u</td>\n",
       "      <td>36u</td>\n",
       "      <td>NaN</td>\n",
       "      <td>15</td>\n",
       "    </tr>\n",
       "    <tr>\n",
       "      <th>...</th>\n",
       "      <td>...</td>\n",
       "      <td>...</td>\n",
       "      <td>...</td>\n",
       "      <td>...</td>\n",
       "      <td>...</td>\n",
       "      <td>...</td>\n",
       "      <td>...</td>\n",
       "      <td>...</td>\n",
       "    </tr>\n",
       "    <tr>\n",
       "      <th>344</th>\n",
       "      <td>7.51</td>\n",
       "      <td>7.06</td>\n",
       "      <td>0.45</td>\n",
       "      <td>novodra</td>\n",
       "      <td>55u</td>\n",
       "      <td>51u</td>\n",
       "      <td>nausea</td>\n",
       "      <td>153</td>\n",
       "    </tr>\n",
       "    <tr>\n",
       "      <th>345</th>\n",
       "      <td>7.67</td>\n",
       "      <td>7.30</td>\n",
       "      <td>0.37</td>\n",
       "      <td>novodra</td>\n",
       "      <td>26u</td>\n",
       "      <td>23u</td>\n",
       "      <td>NaN</td>\n",
       "      <td>420</td>\n",
       "    </tr>\n",
       "    <tr>\n",
       "      <th>346</th>\n",
       "      <td>9.21</td>\n",
       "      <td>8.80</td>\n",
       "      <td>0.41</td>\n",
       "      <td>novodra</td>\n",
       "      <td>22u</td>\n",
       "      <td>23u</td>\n",
       "      <td>injection site discomfort</td>\n",
       "      <td>336</td>\n",
       "    </tr>\n",
       "    <tr>\n",
       "      <th>347</th>\n",
       "      <td>7.96</td>\n",
       "      <td>7.51</td>\n",
       "      <td>0.45</td>\n",
       "      <td>novodra</td>\n",
       "      <td>28u</td>\n",
       "      <td>26u</td>\n",
       "      <td>hypoglycemia</td>\n",
       "      <td>25</td>\n",
       "    </tr>\n",
       "    <tr>\n",
       "      <th>348</th>\n",
       "      <td>7.68</td>\n",
       "      <td>7.21</td>\n",
       "      <td>0.47</td>\n",
       "      <td>novodra</td>\n",
       "      <td>42u</td>\n",
       "      <td>44u</td>\n",
       "      <td>injection site discomfort</td>\n",
       "      <td>477</td>\n",
       "    </tr>\n",
       "  </tbody>\n",
       "</table>\n",
       "<p>349 rows × 8 columns</p>\n",
       "</div>"
      ],
      "text/plain": [
       "     hba1c_start  hba1c_end  hba1c_change treatment dose_start dose_end  \\\n",
       "0           7.63       7.20          0.43   auralin        41u      48u   \n",
       "1           7.97       7.62          0.35   auralin        33u      36u   \n",
       "2           7.65       7.27          0.38   auralin        37u      42u   \n",
       "3           7.89       7.55          0.34   auralin        31u      38u   \n",
       "4           7.76       7.37          0.39   auralin        30u      36u   \n",
       "..           ...        ...           ...       ...        ...      ...   \n",
       "344         7.51       7.06          0.45   novodra        55u      51u   \n",
       "345         7.67       7.30          0.37   novodra        26u      23u   \n",
       "346         9.21       8.80          0.41   novodra        22u      23u   \n",
       "347         7.96       7.51          0.45   novodra        28u      26u   \n",
       "348         7.68       7.21          0.47   novodra        42u      44u   \n",
       "\n",
       "              adverse_reaction  patient_id  \n",
       "0                          NaN         225  \n",
       "1                          NaN         242  \n",
       "2                          NaN         345  \n",
       "3                          NaN         276  \n",
       "4                          NaN          15  \n",
       "..                         ...         ...  \n",
       "344                     nausea         153  \n",
       "345                        NaN         420  \n",
       "346  injection site discomfort         336  \n",
       "347               hypoglycemia          25  \n",
       "348  injection site discomfort         477  \n",
       "\n",
       "[349 rows x 8 columns]"
      ]
     },
     "execution_count": 120,
     "metadata": {},
     "output_type": "execute_result"
    }
   ],
   "source": [
    "tre_clean"
   ]
  },
  {
   "cell_type": "markdown",
   "metadata": {},
   "source": [
    "### Quality "
   ]
  },
  {
   "cell_type": "markdown",
   "metadata": {},
   "source": [
    "##### Define: ZIp code is a float not a string and zip code has four digits sometimes\n",
    "- pat_clean: Convert the zip code columns data type from a float to a string using astype, remove the '.0' using string slicing, and pad four digit zip codes with a leading 0"
   ]
  },
  {
   "cell_type": "markdown",
   "metadata": {},
   "source": [
    "##### Code"
   ]
  },
  {
   "cell_type": "code",
   "execution_count": 121,
   "metadata": {},
   "outputs": [],
   "source": [
    "pat_clean.zip_code = pat_clean.zip_code.astype(str).str[:-2].str.pad(5,fillchar='0')"
   ]
  },
  {
   "cell_type": "markdown",
   "metadata": {},
   "source": [
    "##### Test"
   ]
  },
  {
   "cell_type": "code",
   "execution_count": 122,
   "metadata": {},
   "outputs": [
    {
     "data": {
      "text/html": [
       "<div>\n",
       "<style scoped>\n",
       "    .dataframe tbody tr th:only-of-type {\n",
       "        vertical-align: middle;\n",
       "    }\n",
       "\n",
       "    .dataframe tbody tr th {\n",
       "        vertical-align: top;\n",
       "    }\n",
       "\n",
       "    .dataframe thead th {\n",
       "        text-align: right;\n",
       "    }\n",
       "</style>\n",
       "<table border=\"1\" class=\"dataframe\">\n",
       "  <thead>\n",
       "    <tr style=\"text-align: right;\">\n",
       "      <th></th>\n",
       "      <th>patient_id</th>\n",
       "      <th>assigned_sex</th>\n",
       "      <th>given_name</th>\n",
       "      <th>surname</th>\n",
       "      <th>address</th>\n",
       "      <th>city</th>\n",
       "      <th>state</th>\n",
       "      <th>zip_code</th>\n",
       "      <th>country</th>\n",
       "      <th>birthdate</th>\n",
       "      <th>weight</th>\n",
       "      <th>height</th>\n",
       "      <th>bmi</th>\n",
       "      <th>phone_numbers</th>\n",
       "      <th>email</th>\n",
       "    </tr>\n",
       "  </thead>\n",
       "  <tbody>\n",
       "    <tr>\n",
       "      <th>0</th>\n",
       "      <td>1</td>\n",
       "      <td>female</td>\n",
       "      <td>Zoe</td>\n",
       "      <td>Wellish</td>\n",
       "      <td>576 Brown Bear Drive</td>\n",
       "      <td>Rancho California</td>\n",
       "      <td>California</td>\n",
       "      <td>92390</td>\n",
       "      <td>United States</td>\n",
       "      <td>7/10/1976</td>\n",
       "      <td>121.7</td>\n",
       "      <td>66</td>\n",
       "      <td>19.6</td>\n",
       "      <td>951-719-9170</td>\n",
       "      <td>ZoeWellish@superrito.com</td>\n",
       "    </tr>\n",
       "    <tr>\n",
       "      <th>1</th>\n",
       "      <td>2</td>\n",
       "      <td>female</td>\n",
       "      <td>Pamela</td>\n",
       "      <td>Hill</td>\n",
       "      <td>2370 University Hill Road</td>\n",
       "      <td>Armstrong</td>\n",
       "      <td>Illinois</td>\n",
       "      <td>61812</td>\n",
       "      <td>United States</td>\n",
       "      <td>4/3/1967</td>\n",
       "      <td>118.8</td>\n",
       "      <td>66</td>\n",
       "      <td>19.2</td>\n",
       "      <td>+1 (217) 569-3204</td>\n",
       "      <td>PamelaSHill@cuvox.de</td>\n",
       "    </tr>\n",
       "    <tr>\n",
       "      <th>2</th>\n",
       "      <td>3</td>\n",
       "      <td>male</td>\n",
       "      <td>Jae</td>\n",
       "      <td>Debord</td>\n",
       "      <td>1493 Poling Farm Road</td>\n",
       "      <td>York</td>\n",
       "      <td>Nebraska</td>\n",
       "      <td>68467</td>\n",
       "      <td>United States</td>\n",
       "      <td>2/19/1980</td>\n",
       "      <td>177.8</td>\n",
       "      <td>71</td>\n",
       "      <td>24.8</td>\n",
       "      <td>402-363-6804</td>\n",
       "      <td>JaeMDebord@gustr.com</td>\n",
       "    </tr>\n",
       "    <tr>\n",
       "      <th>3</th>\n",
       "      <td>4</td>\n",
       "      <td>male</td>\n",
       "      <td>Liêm</td>\n",
       "      <td>Phan</td>\n",
       "      <td>2335 Webster Street</td>\n",
       "      <td>Woodbridge</td>\n",
       "      <td>NJ</td>\n",
       "      <td>07095</td>\n",
       "      <td>United States</td>\n",
       "      <td>7/26/1951</td>\n",
       "      <td>220.9</td>\n",
       "      <td>70</td>\n",
       "      <td>31.7</td>\n",
       "      <td>+1 (732) 636-8246</td>\n",
       "      <td>PhanBaLiem@jourrapide.com</td>\n",
       "    </tr>\n",
       "    <tr>\n",
       "      <th>4</th>\n",
       "      <td>5</td>\n",
       "      <td>male</td>\n",
       "      <td>Tim</td>\n",
       "      <td>Neudorf</td>\n",
       "      <td>1428 Turkey Pen Lane</td>\n",
       "      <td>Dothan</td>\n",
       "      <td>AL</td>\n",
       "      <td>36303</td>\n",
       "      <td>United States</td>\n",
       "      <td>2/18/1928</td>\n",
       "      <td>192.3</td>\n",
       "      <td>27</td>\n",
       "      <td>26.1</td>\n",
       "      <td>334-515-7487</td>\n",
       "      <td>TimNeudorf@cuvox.de</td>\n",
       "    </tr>\n",
       "  </tbody>\n",
       "</table>\n",
       "</div>"
      ],
      "text/plain": [
       "   patient_id assigned_sex given_name  surname                    address  \\\n",
       "0           1       female        Zoe  Wellish       576 Brown Bear Drive   \n",
       "1           2       female     Pamela     Hill  2370 University Hill Road   \n",
       "2           3         male        Jae   Debord      1493 Poling Farm Road   \n",
       "3           4         male       Liêm     Phan        2335 Webster Street   \n",
       "4           5         male        Tim  Neudorf       1428 Turkey Pen Lane   \n",
       "\n",
       "                city       state zip_code        country  birthdate  weight  \\\n",
       "0  Rancho California  California    92390  United States  7/10/1976   121.7   \n",
       "1          Armstrong    Illinois    61812  United States   4/3/1967   118.8   \n",
       "2               York    Nebraska    68467  United States  2/19/1980   177.8   \n",
       "3         Woodbridge          NJ    07095  United States  7/26/1951   220.9   \n",
       "4             Dothan          AL    36303  United States  2/18/1928   192.3   \n",
       "\n",
       "   height   bmi      phone_numbers                      email  \n",
       "0      66  19.6       951-719-9170   ZoeWellish@superrito.com  \n",
       "1      66  19.2  +1 (217) 569-3204       PamelaSHill@cuvox.de  \n",
       "2      71  24.8       402-363-6804       JaeMDebord@gustr.com  \n",
       "3      70  31.7  +1 (732) 636-8246  PhanBaLiem@jourrapide.com  \n",
       "4      27  26.1       334-515-7487        TimNeudorf@cuvox.de  "
      ]
     },
     "execution_count": 122,
     "metadata": {},
     "output_type": "execute_result"
    }
   ],
   "source": [
    "pat_clean.head()"
   ]
  },
  {
   "cell_type": "markdown",
   "metadata": {},
   "source": [
    "##### Define: Tim Neirdof height is 27 in instead of 72 in \n",
    "- correct the heihgt of tim from 27 to 72"
   ]
  },
  {
   "cell_type": "markdown",
   "metadata": {},
   "source": [
    "##### Code"
   ]
  },
  {
   "cell_type": "code",
   "execution_count": 123,
   "metadata": {},
   "outputs": [],
   "source": [
    "pat_clean.height = pat_clean.height.replace(27, 72)"
   ]
  },
  {
   "cell_type": "markdown",
   "metadata": {},
   "source": [
    "##### Test"
   ]
  },
  {
   "cell_type": "code",
   "execution_count": 124,
   "metadata": {},
   "outputs": [
    {
     "data": {
      "text/html": [
       "<div>\n",
       "<style scoped>\n",
       "    .dataframe tbody tr th:only-of-type {\n",
       "        vertical-align: middle;\n",
       "    }\n",
       "\n",
       "    .dataframe tbody tr th {\n",
       "        vertical-align: top;\n",
       "    }\n",
       "\n",
       "    .dataframe thead th {\n",
       "        text-align: right;\n",
       "    }\n",
       "</style>\n",
       "<table border=\"1\" class=\"dataframe\">\n",
       "  <thead>\n",
       "    <tr style=\"text-align: right;\">\n",
       "      <th></th>\n",
       "      <th>patient_id</th>\n",
       "      <th>assigned_sex</th>\n",
       "      <th>given_name</th>\n",
       "      <th>surname</th>\n",
       "      <th>address</th>\n",
       "      <th>city</th>\n",
       "      <th>state</th>\n",
       "      <th>zip_code</th>\n",
       "      <th>country</th>\n",
       "      <th>birthdate</th>\n",
       "      <th>weight</th>\n",
       "      <th>height</th>\n",
       "      <th>bmi</th>\n",
       "      <th>phone_numbers</th>\n",
       "      <th>email</th>\n",
       "    </tr>\n",
       "  </thead>\n",
       "  <tbody>\n",
       "    <tr>\n",
       "      <th>4</th>\n",
       "      <td>5</td>\n",
       "      <td>male</td>\n",
       "      <td>Tim</td>\n",
       "      <td>Neudorf</td>\n",
       "      <td>1428 Turkey Pen Lane</td>\n",
       "      <td>Dothan</td>\n",
       "      <td>AL</td>\n",
       "      <td>36303</td>\n",
       "      <td>United States</td>\n",
       "      <td>2/18/1928</td>\n",
       "      <td>192.3</td>\n",
       "      <td>72</td>\n",
       "      <td>26.1</td>\n",
       "      <td>334-515-7487</td>\n",
       "      <td>TimNeudorf@cuvox.de</td>\n",
       "    </tr>\n",
       "  </tbody>\n",
       "</table>\n",
       "</div>"
      ],
      "text/plain": [
       "   patient_id assigned_sex given_name  surname               address    city  \\\n",
       "4           5         male        Tim  Neudorf  1428 Turkey Pen Lane  Dothan   \n",
       "\n",
       "  state zip_code        country  birthdate  weight  height   bmi  \\\n",
       "4    AL    36303  United States  2/18/1928   192.3      72  26.1   \n",
       "\n",
       "  phone_numbers                email  \n",
       "4  334-515-7487  TimNeudorf@cuvox.de  "
      ]
     },
     "execution_count": 124,
     "metadata": {},
     "output_type": "execute_result"
    }
   ],
   "source": [
    "pat_clean[pat_clean.surname == 'Neudorf']"
   ]
  },
  {
   "cell_type": "markdown",
   "metadata": {},
   "source": [
    "##### Define: full states names sometimes and abbreviations others\n",
    "- apply a function that converts full state name to state abbreviation for California, New York, Illinios, Florida, and Nebraska"
   ]
  },
  {
   "cell_type": "markdown",
   "metadata": {},
   "source": [
    "##### Code"
   ]
  },
  {
   "cell_type": "code",
   "execution_count": 125,
   "metadata": {},
   "outputs": [],
   "source": [
    "state_abb = {'California' : 'CA',\n",
    "             'New York' : 'NY',\n",
    "             'Illinois' : 'IL',\n",
    "             'Florida' : 'FL',\n",
    "             'Nebraska' : 'NE'}\n",
    "\n",
    "def abbreviate_state(patient):\n",
    "    if patient['state'] in state_abb.keys():\n",
    "        abbrev= state_abb[patient['state']]\n",
    "        return abbrev\n",
    "    else: \n",
    "        return patient['state']\n",
    "pat_clean['state'] = pat_clean.apply(abbreviate_state,axis=1)"
   ]
  },
  {
   "cell_type": "markdown",
   "metadata": {},
   "source": [
    "##### Test"
   ]
  },
  {
   "cell_type": "code",
   "execution_count": 126,
   "metadata": {},
   "outputs": [
    {
     "data": {
      "text/plain": [
       "CA    60\n",
       "NY    47\n",
       "TX    32\n",
       "IL    24\n",
       "MA    22\n",
       "FL    22\n",
       "PA    18\n",
       "GA    15\n",
       "OH    14\n",
       "MI    13\n",
       "LA    13\n",
       "OK    13\n",
       "NJ    12\n",
       "VA    11\n",
       "MS    10\n",
       "WI    10\n",
       "TN     9\n",
       "MN     9\n",
       "IN     9\n",
       "AL     9\n",
       "NC     8\n",
       "WA     8\n",
       "KY     8\n",
       "MO     7\n",
       "NE     6\n",
       "KS     6\n",
       "ID     6\n",
       "NV     6\n",
       "CT     5\n",
       "IA     5\n",
       "SC     5\n",
       "AR     4\n",
       "RI     4\n",
       "CO     4\n",
       "ND     4\n",
       "AZ     4\n",
       "ME     4\n",
       "SD     3\n",
       "MD     3\n",
       "WV     3\n",
       "OR     3\n",
       "DE     3\n",
       "MT     2\n",
       "DC     2\n",
       "VT     2\n",
       "AK     1\n",
       "NH     1\n",
       "WY     1\n",
       "NM     1\n",
       "Name: state, dtype: int64"
      ]
     },
     "execution_count": 126,
     "metadata": {},
     "output_type": "execute_result"
    }
   ],
   "source": [
    "pat_clean.state.value_counts()"
   ]
  },
  {
   "cell_type": "markdown",
   "metadata": {},
   "source": [
    "##### Define: Dsvid Gustafsson\n",
    "- Replace given name for rows in patients table with the given name 'Dsvid' to 'David'"
   ]
  },
  {
   "cell_type": "markdown",
   "metadata": {},
   "source": [
    "##### Code"
   ]
  },
  {
   "cell_type": "code",
   "execution_count": 127,
   "metadata": {},
   "outputs": [],
   "source": [
    "pat_clean.given_name = pat_clean.given_name.replace('Dsvid', 'David')"
   ]
  },
  {
   "cell_type": "markdown",
   "metadata": {},
   "source": [
    "##### Test"
   ]
  },
  {
   "cell_type": "code",
   "execution_count": 128,
   "metadata": {},
   "outputs": [
    {
     "data": {
      "text/html": [
       "<div>\n",
       "<style scoped>\n",
       "    .dataframe tbody tr th:only-of-type {\n",
       "        vertical-align: middle;\n",
       "    }\n",
       "\n",
       "    .dataframe tbody tr th {\n",
       "        vertical-align: top;\n",
       "    }\n",
       "\n",
       "    .dataframe thead th {\n",
       "        text-align: right;\n",
       "    }\n",
       "</style>\n",
       "<table border=\"1\" class=\"dataframe\">\n",
       "  <thead>\n",
       "    <tr style=\"text-align: right;\">\n",
       "      <th></th>\n",
       "      <th>patient_id</th>\n",
       "      <th>assigned_sex</th>\n",
       "      <th>given_name</th>\n",
       "      <th>surname</th>\n",
       "      <th>address</th>\n",
       "      <th>city</th>\n",
       "      <th>state</th>\n",
       "      <th>zip_code</th>\n",
       "      <th>country</th>\n",
       "      <th>birthdate</th>\n",
       "      <th>weight</th>\n",
       "      <th>height</th>\n",
       "      <th>bmi</th>\n",
       "      <th>phone_numbers</th>\n",
       "      <th>email</th>\n",
       "    </tr>\n",
       "  </thead>\n",
       "  <tbody>\n",
       "    <tr>\n",
       "      <th>8</th>\n",
       "      <td>9</td>\n",
       "      <td>male</td>\n",
       "      <td>David</td>\n",
       "      <td>Gustafsson</td>\n",
       "      <td>1790 Nutter Street</td>\n",
       "      <td>Kansas City</td>\n",
       "      <td>MO</td>\n",
       "      <td>64105</td>\n",
       "      <td>United States</td>\n",
       "      <td>3/6/1937</td>\n",
       "      <td>163.9</td>\n",
       "      <td>66</td>\n",
       "      <td>26.5</td>\n",
       "      <td>816-265-9578</td>\n",
       "      <td>DavidGustafsson@armyspy.com</td>\n",
       "    </tr>\n",
       "  </tbody>\n",
       "</table>\n",
       "</div>"
      ],
      "text/plain": [
       "   patient_id assigned_sex given_name     surname             address  \\\n",
       "8           9         male      David  Gustafsson  1790 Nutter Street   \n",
       "\n",
       "          city state zip_code        country birthdate  weight  height   bmi  \\\n",
       "8  Kansas City    MO    64105  United States  3/6/1937   163.9      66  26.5   \n",
       "\n",
       "  phone_numbers                        email  \n",
       "8  816-265-9578  DavidGustafsson@armyspy.com  "
      ]
     },
     "execution_count": 128,
     "metadata": {},
     "output_type": "execute_result"
    }
   ],
   "source": [
    "pat_clean[pat_clean.surname == 'Gustafsson']"
   ]
  },
  {
   "cell_type": "markdown",
   "metadata": {},
   "source": [
    "##### Define: Erroneous datatypes (assigned sex, state, zip_code, and birthdate columns) and Erroneous datatypes (auralin and novodra columns) and The letter 'u' in starting and ending doses for Auralin and Novodra\n",
    "- Convert assigned sex and state to categorical data types. Zip code data type was already addressed above. Convert birthdate to datetime data type. Strip the letter 'u' in start dose and end dose and convert those columns to data type integer."
   ]
  },
  {
   "cell_type": "markdown",
   "metadata": {},
   "source": [
    "##### Code"
   ]
  },
  {
   "cell_type": "code",
   "execution_count": 130,
   "metadata": {},
   "outputs": [],
   "source": [
    "# To category\n",
    "pat_clean.assigned_sex = pat_clean.assigned_sex.astype('category')\n",
    "pat_clean.state = pat_clean.state.astype('category')\n",
    "\n",
    "# To datetime\n",
    "pat_clean.birthdate = pd.to_datetime(pat_clean.birthdate)\n",
    "\n",
    "# Strip u and to integer\n",
    "tre_clean.dose_start = tre_clean.dose_start.str.strip('u').astype(int)\n",
    "tre_clean.dose_end = tre_clean.dose_end.str.strip('u').astype(int)"
   ]
  },
  {
   "cell_type": "markdown",
   "metadata": {},
   "source": [
    "##### Test"
   ]
  },
  {
   "cell_type": "code",
   "execution_count": 131,
   "metadata": {},
   "outputs": [
    {
     "name": "stdout",
     "output_type": "stream",
     "text": [
      "<class 'pandas.core.frame.DataFrame'>\n",
      "RangeIndex: 503 entries, 0 to 502\n",
      "Data columns (total 15 columns):\n",
      " #   Column         Non-Null Count  Dtype         \n",
      "---  ------         --------------  -----         \n",
      " 0   patient_id     503 non-null    int64         \n",
      " 1   assigned_sex   503 non-null    category      \n",
      " 2   given_name     503 non-null    object        \n",
      " 3   surname        503 non-null    object        \n",
      " 4   address        491 non-null    object        \n",
      " 5   city           491 non-null    object        \n",
      " 6   state          491 non-null    category      \n",
      " 7   zip_code       503 non-null    object        \n",
      " 8   country        491 non-null    object        \n",
      " 9   birthdate      503 non-null    datetime64[ns]\n",
      " 10  weight         503 non-null    float64       \n",
      " 11  height         503 non-null    int64         \n",
      " 12  bmi            503 non-null    float64       \n",
      " 13  phone_numbers  491 non-null    object        \n",
      " 14  email          491 non-null    object        \n",
      "dtypes: category(2), datetime64[ns](1), float64(2), int64(2), object(8)\n",
      "memory usage: 53.9+ KB\n"
     ]
    }
   ],
   "source": [
    "pat_clean.info()"
   ]
  },
  {
   "cell_type": "markdown",
   "metadata": {},
   "source": [
    "##### Define: Multiple phone number formats\n",
    "- Strip all \" \", \"-\", \"(\", \")\", and \"+\" and store each number without any formatting. Pad the phone number with a 1 if the length of the number is 10 digits (we want country code)."
   ]
  },
  {
   "cell_type": "markdown",
   "metadata": {},
   "source": [
    "##### Code"
   ]
  },
  {
   "cell_type": "code",
   "execution_count": 134,
   "metadata": {},
   "outputs": [],
   "source": [
    "pat_clean.phone_numbers = pat_clean.phone_numbers.str.replace(r'\\D+', '').str.pad(11, fillchar='1')"
   ]
  },
  {
   "cell_type": "markdown",
   "metadata": {},
   "source": [
    "##### Test"
   ]
  },
  {
   "cell_type": "code",
   "execution_count": 135,
   "metadata": {},
   "outputs": [
    {
     "data": {
      "text/plain": [
       "0    19517199170\n",
       "1    12175693204\n",
       "2    14023636804\n",
       "3    17326368246\n",
       "4    13345157487\n",
       "Name: phone_numbers, dtype: object"
      ]
     },
     "execution_count": 135,
     "metadata": {},
     "output_type": "execute_result"
    }
   ],
   "source": [
    "pat_clean.phone_numbers.head()"
   ]
  },
  {
   "cell_type": "markdown",
   "metadata": {},
   "source": [
    "##### Define: Default john doe data\n",
    "- remove all the non-recoverable john doe records from patients table"
   ]
  },
  {
   "cell_type": "markdown",
   "metadata": {},
   "source": [
    "##### Code"
   ]
  },
  {
   "cell_type": "code",
   "execution_count": 137,
   "metadata": {},
   "outputs": [],
   "source": [
    "pat_clean = pat_clean[pat_clean.surname != 'Doe']"
   ]
  },
  {
   "cell_type": "markdown",
   "metadata": {},
   "source": [
    "##### Test"
   ]
  },
  {
   "cell_type": "code",
   "execution_count": 138,
   "metadata": {},
   "outputs": [
    {
     "data": {
      "text/plain": [
       "Taylor           3\n",
       "Jakobsen         3\n",
       "Grímsdóttir      2\n",
       "Cabrera          2\n",
       "Batukayev        2\n",
       "                ..\n",
       "Guðjónsdóttir    1\n",
       "Zsinkó           1\n",
       "Baum             1\n",
       "Su               1\n",
       "Scheltens        1\n",
       "Name: surname, Length: 465, dtype: int64"
      ]
     },
     "execution_count": 138,
     "metadata": {},
     "output_type": "execute_result"
    }
   ],
   "source": [
    "pat_clean.surname.value_counts()"
   ]
  },
  {
   "cell_type": "markdown",
   "metadata": {},
   "source": [
    "##### Define: Multiple records for Jakobsen, Gersten, Taylor\n",
    "- Remove the Jake Jakobsen, Pat Gersten, and Sandy Taylor rows from the patients table. These are the nicknames, which happen to also not be in the treatments table (removing the wrong name would create a consistency issue between the patients and treatments table). These are all the second occurrence of the duplicate. These are also the only occurences of non-null duplicate addresses."
   ]
  },
  {
   "cell_type": "markdown",
   "metadata": {},
   "source": [
    "##### Code"
   ]
  },
  {
   "cell_type": "code",
   "execution_count": 141,
   "metadata": {},
   "outputs": [],
   "source": [
    "pat_clean = pat_clean[~((pat_clean.address.duplicated()) & pat_clean.address.notnull())]"
   ]
  },
  {
   "cell_type": "markdown",
   "metadata": {},
   "source": [
    "##### Test"
   ]
  },
  {
   "cell_type": "code",
   "execution_count": 142,
   "metadata": {},
   "outputs": [
    {
     "data": {
      "text/html": [
       "<div>\n",
       "<style scoped>\n",
       "    .dataframe tbody tr th:only-of-type {\n",
       "        vertical-align: middle;\n",
       "    }\n",
       "\n",
       "    .dataframe tbody tr th {\n",
       "        vertical-align: top;\n",
       "    }\n",
       "\n",
       "    .dataframe thead th {\n",
       "        text-align: right;\n",
       "    }\n",
       "</style>\n",
       "<table border=\"1\" class=\"dataframe\">\n",
       "  <thead>\n",
       "    <tr style=\"text-align: right;\">\n",
       "      <th></th>\n",
       "      <th>patient_id</th>\n",
       "      <th>assigned_sex</th>\n",
       "      <th>given_name</th>\n",
       "      <th>surname</th>\n",
       "      <th>address</th>\n",
       "      <th>city</th>\n",
       "      <th>state</th>\n",
       "      <th>zip_code</th>\n",
       "      <th>country</th>\n",
       "      <th>birthdate</th>\n",
       "      <th>weight</th>\n",
       "      <th>height</th>\n",
       "      <th>bmi</th>\n",
       "      <th>phone_numbers</th>\n",
       "      <th>email</th>\n",
       "    </tr>\n",
       "  </thead>\n",
       "  <tbody>\n",
       "    <tr>\n",
       "      <th>24</th>\n",
       "      <td>25</td>\n",
       "      <td>male</td>\n",
       "      <td>Jakob</td>\n",
       "      <td>Jakobsen</td>\n",
       "      <td>648 Old Dear Lane</td>\n",
       "      <td>Port Jervis</td>\n",
       "      <td>NY</td>\n",
       "      <td>12771</td>\n",
       "      <td>United States</td>\n",
       "      <td>1985-08-01</td>\n",
       "      <td>155.8</td>\n",
       "      <td>67</td>\n",
       "      <td>24.4</td>\n",
       "      <td>18458587707</td>\n",
       "      <td>JakobCJakobsen@einrot.com</td>\n",
       "    </tr>\n",
       "    <tr>\n",
       "      <th>432</th>\n",
       "      <td>433</td>\n",
       "      <td>female</td>\n",
       "      <td>Karen</td>\n",
       "      <td>Jakobsen</td>\n",
       "      <td>1690 Fannie Street</td>\n",
       "      <td>Houston</td>\n",
       "      <td>TX</td>\n",
       "      <td>77020</td>\n",
       "      <td>United States</td>\n",
       "      <td>1962-11-25</td>\n",
       "      <td>185.2</td>\n",
       "      <td>67</td>\n",
       "      <td>29.0</td>\n",
       "      <td>19792030438</td>\n",
       "      <td>KarenJakobsen@jourrapide.com</td>\n",
       "    </tr>\n",
       "  </tbody>\n",
       "</table>\n",
       "</div>"
      ],
      "text/plain": [
       "     patient_id assigned_sex given_name   surname             address  \\\n",
       "24           25         male      Jakob  Jakobsen   648 Old Dear Lane   \n",
       "432         433       female      Karen  Jakobsen  1690 Fannie Street   \n",
       "\n",
       "            city state zip_code        country  birthdate  weight  height  \\\n",
       "24   Port Jervis    NY    12771  United States 1985-08-01   155.8      67   \n",
       "432      Houston    TX    77020  United States 1962-11-25   185.2      67   \n",
       "\n",
       "      bmi phone_numbers                         email  \n",
       "24   24.4   18458587707     JakobCJakobsen@einrot.com  \n",
       "432  29.0   19792030438  KarenJakobsen@jourrapide.com  "
      ]
     },
     "execution_count": 142,
     "metadata": {},
     "output_type": "execute_result"
    }
   ],
   "source": [
    "pat_clean[pat_clean.surname == 'Jakobsen']"
   ]
  },
  {
   "cell_type": "markdown",
   "metadata": {},
   "source": [
    "##### Define: kgs instead of lbs for Zaitseva Weight\n",
    "- Use advanced indexing to isolate the row where the surname Zaitseva and convert the entry in its weight field from kg to lbs"
   ]
  },
  {
   "cell_type": "markdown",
   "metadata": {},
   "source": [
    "##### Code"
   ]
  },
  {
   "cell_type": "code",
   "execution_count": 145,
   "metadata": {},
   "outputs": [],
   "source": [
    "weight_kg = pat_clean.weight.min()\n",
    "mask = pat_clean.surname == 'Zaitseva'\n",
    "column_name = 'weight'\n",
    "pat_clean.loc[mask, column_name] = weight_kg * 2.20462"
   ]
  },
  {
   "cell_type": "markdown",
   "metadata": {},
   "source": [
    "##### Test"
   ]
  },
  {
   "cell_type": "code",
   "execution_count": 146,
   "metadata": {},
   "outputs": [
    {
     "data": {
      "text/plain": [
       "459    102.1\n",
       "335    102.7\n",
       "74     103.2\n",
       "317    106.0\n",
       "171    106.5\n",
       "       ...  \n",
       "61     244.9\n",
       "144    244.9\n",
       "283    245.5\n",
       "118    254.5\n",
       "485    255.9\n",
       "Name: weight, Length: 494, dtype: float64"
      ]
     },
     "execution_count": 146,
     "metadata": {},
     "output_type": "execute_result"
    }
   ],
   "source": [
    "pat_clean.weight.sort_values()"
   ]
  },
  {
   "cell_type": "code",
   "execution_count": null,
   "metadata": {},
   "outputs": [],
   "source": []
  }
 ],
 "metadata": {
  "kernelspec": {
   "display_name": "Python 3",
   "language": "python",
   "name": "python3"
  },
  "language_info": {
   "codemirror_mode": {
    "name": "ipython",
    "version": 3
   },
   "file_extension": ".py",
   "mimetype": "text/x-python",
   "name": "python",
   "nbconvert_exporter": "python",
   "pygments_lexer": "ipython3",
   "version": "3.7.7"
  }
 },
 "nbformat": 4,
 "nbformat_minor": 4
}
